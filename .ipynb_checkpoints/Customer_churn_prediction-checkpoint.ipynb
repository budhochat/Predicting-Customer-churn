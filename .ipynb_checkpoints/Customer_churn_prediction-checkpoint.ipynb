{
 "cells": [
  {
   "cell_type": "markdown",
   "metadata": {},
   "source": [
    "# Predicting Customer Churn - Modeling and prediction"
   ]
  },
  {
   "cell_type": "markdown",
   "metadata": {},
   "source": [
    "### Data Description:\n",
    "\n",
    "The raw data contains 7043 rows (customers data) and 21 columns (features).\n",
    "\n",
    "**Field Descriptions**\n",
    "- customerID - Customer ID\n",
    "- gender - Whether the customer is a male or a female\n",
    "- SeniorCitizen - Whether the customer is a senior citizen or not (1, 0)\n",
    "- Partner - Whether the customer has a partner or not (Yes, No)\n",
    "- Dependents - Whether the customer has dependents or not (Yes, No)\n",
    "- tenure - Number of months the customer has stayed with the company\n",
    "- PhoneService - Whether the customer has a phone service or not (Yes, No)\n",
    "- MultipleLines - Whether the customer has multiple lines or not (Yes, No, No phone service)\n",
    "- InternetService - Customer’s internet service provider (DSL, Fiber optic, No)\n",
    "- OnlineSecurity - Whether the customer has online security or not (Yes, No, No internet service)\n",
    "- OnlineBackup - Whether the customer has online backup or not (Yes, No, No internet service)\n",
    "- DeviceProtection - Whether the customer has device protection or not (Yes, No, No internet service)\n",
    "- TechSupport - Whether the customer has tech support or not (Yes, No, No internet service)\n",
    "- StreamingTV - Whether the customer has streaming TV or not (Yes, No, No internet service)\n",
    "- StreamingMovies - Whether the customer has streaming movies or not (Yes, No, No internet service)\n",
    "- Contract - The contract term of the customer (Month-to-month, One year, Two year)\n",
    "- PaperlessBilling - Whether the customer has paperless billing or not (Yes, No)\n",
    "- PaymentMethod - The customer’s payment method (Electronic check, Mailed check Bank transfer (automatic), Credit card (automatic))\n",
    "- MonthlyCharges - The amount charged to the customer monthly\n",
    "- TotalCharges - The total amount charged to the customer\n",
    "- Churn - Whether the customer churned or not (Yes or No)"
   ]
  },
  {
   "cell_type": "markdown",
   "metadata": {},
   "source": [
    "This notebook does data-preprocessing, modeling and prediction"
   ]
  },
  {
   "cell_type": "code",
   "execution_count": 114,
   "metadata": {},
   "outputs": [],
   "source": [
    "# Importing libraries\n",
    "\n",
    "import numpy as np\n",
    "import pandas as pd\n",
    "import matplotlib.pyplot as plt\n",
    "import seaborn as sns\n",
    "%matplotlib inline \n",
    "import scipy.stats as stats\n",
    "from scipy import stats\n",
    "from scipy.stats import pointbiserialr, spearmanr, skew, pearsonr\n",
    "# Ignore useless warnings (see SciPy issue #5998)\n",
    "import warnings\n",
    "warnings.filterwarnings(action=\"ignore\")\n",
    "pd.set_option('display.max_columns', None)"
   ]
  },
  {
   "cell_type": "markdown",
   "metadata": {},
   "source": [
    "#### Data import and information"
   ]
  },
  {
   "cell_type": "code",
   "execution_count": 115,
   "metadata": {},
   "outputs": [],
   "source": [
    "# import the dataset\n",
    "data = pd.read_csv('./Data/WA_Fn-UseC_-Telco-Customer-Churn.csv')"
   ]
  },
  {
   "cell_type": "code",
   "execution_count": 116,
   "metadata": {},
   "outputs": [
    {
     "data": {
      "text/html": [
       "<div>\n",
       "<style scoped>\n",
       "    .dataframe tbody tr th:only-of-type {\n",
       "        vertical-align: middle;\n",
       "    }\n",
       "\n",
       "    .dataframe tbody tr th {\n",
       "        vertical-align: top;\n",
       "    }\n",
       "\n",
       "    .dataframe thead th {\n",
       "        text-align: right;\n",
       "    }\n",
       "</style>\n",
       "<table border=\"1\" class=\"dataframe\">\n",
       "  <thead>\n",
       "    <tr style=\"text-align: right;\">\n",
       "      <th></th>\n",
       "      <th>customerID</th>\n",
       "      <th>gender</th>\n",
       "      <th>SeniorCitizen</th>\n",
       "      <th>Partner</th>\n",
       "      <th>Dependents</th>\n",
       "      <th>tenure</th>\n",
       "      <th>PhoneService</th>\n",
       "      <th>MultipleLines</th>\n",
       "      <th>InternetService</th>\n",
       "      <th>OnlineSecurity</th>\n",
       "      <th>OnlineBackup</th>\n",
       "      <th>DeviceProtection</th>\n",
       "      <th>TechSupport</th>\n",
       "      <th>StreamingTV</th>\n",
       "      <th>StreamingMovies</th>\n",
       "      <th>Contract</th>\n",
       "      <th>PaperlessBilling</th>\n",
       "      <th>PaymentMethod</th>\n",
       "      <th>MonthlyCharges</th>\n",
       "      <th>TotalCharges</th>\n",
       "      <th>Churn</th>\n",
       "    </tr>\n",
       "  </thead>\n",
       "  <tbody>\n",
       "    <tr>\n",
       "      <th>0</th>\n",
       "      <td>7590-VHVEG</td>\n",
       "      <td>Female</td>\n",
       "      <td>0</td>\n",
       "      <td>Yes</td>\n",
       "      <td>No</td>\n",
       "      <td>1</td>\n",
       "      <td>No</td>\n",
       "      <td>No phone service</td>\n",
       "      <td>DSL</td>\n",
       "      <td>No</td>\n",
       "      <td>Yes</td>\n",
       "      <td>No</td>\n",
       "      <td>No</td>\n",
       "      <td>No</td>\n",
       "      <td>No</td>\n",
       "      <td>Month-to-month</td>\n",
       "      <td>Yes</td>\n",
       "      <td>Electronic check</td>\n",
       "      <td>29.85</td>\n",
       "      <td>29.85</td>\n",
       "      <td>No</td>\n",
       "    </tr>\n",
       "    <tr>\n",
       "      <th>1</th>\n",
       "      <td>5575-GNVDE</td>\n",
       "      <td>Male</td>\n",
       "      <td>0</td>\n",
       "      <td>No</td>\n",
       "      <td>No</td>\n",
       "      <td>34</td>\n",
       "      <td>Yes</td>\n",
       "      <td>No</td>\n",
       "      <td>DSL</td>\n",
       "      <td>Yes</td>\n",
       "      <td>No</td>\n",
       "      <td>Yes</td>\n",
       "      <td>No</td>\n",
       "      <td>No</td>\n",
       "      <td>No</td>\n",
       "      <td>One year</td>\n",
       "      <td>No</td>\n",
       "      <td>Mailed check</td>\n",
       "      <td>56.95</td>\n",
       "      <td>1889.5</td>\n",
       "      <td>No</td>\n",
       "    </tr>\n",
       "    <tr>\n",
       "      <th>2</th>\n",
       "      <td>3668-QPYBK</td>\n",
       "      <td>Male</td>\n",
       "      <td>0</td>\n",
       "      <td>No</td>\n",
       "      <td>No</td>\n",
       "      <td>2</td>\n",
       "      <td>Yes</td>\n",
       "      <td>No</td>\n",
       "      <td>DSL</td>\n",
       "      <td>Yes</td>\n",
       "      <td>Yes</td>\n",
       "      <td>No</td>\n",
       "      <td>No</td>\n",
       "      <td>No</td>\n",
       "      <td>No</td>\n",
       "      <td>Month-to-month</td>\n",
       "      <td>Yes</td>\n",
       "      <td>Mailed check</td>\n",
       "      <td>53.85</td>\n",
       "      <td>108.15</td>\n",
       "      <td>Yes</td>\n",
       "    </tr>\n",
       "    <tr>\n",
       "      <th>3</th>\n",
       "      <td>7795-CFOCW</td>\n",
       "      <td>Male</td>\n",
       "      <td>0</td>\n",
       "      <td>No</td>\n",
       "      <td>No</td>\n",
       "      <td>45</td>\n",
       "      <td>No</td>\n",
       "      <td>No phone service</td>\n",
       "      <td>DSL</td>\n",
       "      <td>Yes</td>\n",
       "      <td>No</td>\n",
       "      <td>Yes</td>\n",
       "      <td>Yes</td>\n",
       "      <td>No</td>\n",
       "      <td>No</td>\n",
       "      <td>One year</td>\n",
       "      <td>No</td>\n",
       "      <td>Bank transfer (automatic)</td>\n",
       "      <td>42.30</td>\n",
       "      <td>1840.75</td>\n",
       "      <td>No</td>\n",
       "    </tr>\n",
       "    <tr>\n",
       "      <th>4</th>\n",
       "      <td>9237-HQITU</td>\n",
       "      <td>Female</td>\n",
       "      <td>0</td>\n",
       "      <td>No</td>\n",
       "      <td>No</td>\n",
       "      <td>2</td>\n",
       "      <td>Yes</td>\n",
       "      <td>No</td>\n",
       "      <td>Fiber optic</td>\n",
       "      <td>No</td>\n",
       "      <td>No</td>\n",
       "      <td>No</td>\n",
       "      <td>No</td>\n",
       "      <td>No</td>\n",
       "      <td>No</td>\n",
       "      <td>Month-to-month</td>\n",
       "      <td>Yes</td>\n",
       "      <td>Electronic check</td>\n",
       "      <td>70.70</td>\n",
       "      <td>151.65</td>\n",
       "      <td>Yes</td>\n",
       "    </tr>\n",
       "  </tbody>\n",
       "</table>\n",
       "</div>"
      ],
      "text/plain": [
       "   customerID  gender  SeniorCitizen Partner Dependents  tenure PhoneService  \\\n",
       "0  7590-VHVEG  Female              0     Yes         No       1           No   \n",
       "1  5575-GNVDE    Male              0      No         No      34          Yes   \n",
       "2  3668-QPYBK    Male              0      No         No       2          Yes   \n",
       "3  7795-CFOCW    Male              0      No         No      45           No   \n",
       "4  9237-HQITU  Female              0      No         No       2          Yes   \n",
       "\n",
       "      MultipleLines InternetService OnlineSecurity OnlineBackup  \\\n",
       "0  No phone service             DSL             No          Yes   \n",
       "1                No             DSL            Yes           No   \n",
       "2                No             DSL            Yes          Yes   \n",
       "3  No phone service             DSL            Yes           No   \n",
       "4                No     Fiber optic             No           No   \n",
       "\n",
       "  DeviceProtection TechSupport StreamingTV StreamingMovies        Contract  \\\n",
       "0               No          No          No              No  Month-to-month   \n",
       "1              Yes          No          No              No        One year   \n",
       "2               No          No          No              No  Month-to-month   \n",
       "3              Yes         Yes          No              No        One year   \n",
       "4               No          No          No              No  Month-to-month   \n",
       "\n",
       "  PaperlessBilling              PaymentMethod  MonthlyCharges TotalCharges  \\\n",
       "0              Yes           Electronic check           29.85        29.85   \n",
       "1               No               Mailed check           56.95       1889.5   \n",
       "2              Yes               Mailed check           53.85       108.15   \n",
       "3               No  Bank transfer (automatic)           42.30      1840.75   \n",
       "4              Yes           Electronic check           70.70       151.65   \n",
       "\n",
       "  Churn  \n",
       "0    No  \n",
       "1    No  \n",
       "2   Yes  \n",
       "3    No  \n",
       "4   Yes  "
      ]
     },
     "execution_count": 116,
     "metadata": {},
     "output_type": "execute_result"
    }
   ],
   "source": [
    "data.head()"
   ]
  },
  {
   "cell_type": "code",
   "execution_count": 117,
   "metadata": {},
   "outputs": [
    {
     "data": {
      "text/plain": [
       "(7043, 21)"
      ]
     },
     "execution_count": 117,
     "metadata": {},
     "output_type": "execute_result"
    }
   ],
   "source": [
    "data.shape"
   ]
  },
  {
   "cell_type": "code",
   "execution_count": 118,
   "metadata": {},
   "outputs": [],
   "source": [
    "# Numerical variables\n",
    "num_var = ['tenure', 'MonthlyCharges','TotalCharges' ]"
   ]
  },
  {
   "cell_type": "code",
   "execution_count": 119,
   "metadata": {},
   "outputs": [],
   "source": [
    "# Categorical variable\n",
    "cat_var = ['gender', 'SeniorCitizen', 'Partner', 'Dependents','PhoneService', 'MultipleLines', 'InternetService',\n",
    "       'OnlineSecurity', 'OnlineBackup', 'DeviceProtection', 'TechSupport',\n",
    "       'StreamingTV', 'StreamingMovies', 'Contract', 'PaperlessBilling',\n",
    "       'PaymentMethod','Churn']"
   ]
  },
  {
   "cell_type": "code",
   "execution_count": 120,
   "metadata": {},
   "outputs": [],
   "source": [
    "# Change senior citizen as category \n",
    "data['SeniorCitizen'] = data['SeniorCitizen'].astype(object)"
   ]
  },
  {
   "cell_type": "markdown",
   "metadata": {},
   "source": [
    "#### Splitting into train and test "
   ]
  },
  {
   "cell_type": "code",
   "execution_count": 121,
   "metadata": {},
   "outputs": [],
   "source": [
    "# Split dataset into training and test\n",
    "from sklearn.model_selection import train_test_split\n",
    "train_data, test_data = train_test_split(data, test_size=0.2, random_state=0)"
   ]
  },
  {
   "cell_type": "code",
   "execution_count": 122,
   "metadata": {},
   "outputs": [
    {
     "name": "stdout",
     "output_type": "stream",
     "text": [
      "train_data shape:  (5634, 21)\n",
      "test_data shape:  (1409, 21)\n"
     ]
    }
   ],
   "source": [
    "print( \"train_data shape: \",train_data.shape)\n",
    "print( \"test_data shape: \",test_data.shape)"
   ]
  },
  {
   "cell_type": "markdown",
   "metadata": {},
   "source": [
    "### Data Preprocessing"
   ]
  },
  {
   "cell_type": "code",
   "execution_count": 123,
   "metadata": {},
   "outputs": [],
   "source": [
    "# Duplicates, null value impute"
   ]
  },
  {
   "cell_type": "code",
   "execution_count": 124,
   "metadata": {},
   "outputs": [],
   "source": [
    "# Check for duplicates (train)\n",
    "train_data.drop_duplicates(subset=None, keep='first', inplace=True);"
   ]
  },
  {
   "cell_type": "code",
   "execution_count": 125,
   "metadata": {},
   "outputs": [],
   "source": [
    "# Check for duplicates (test)\n",
    "test_data.drop_duplicates(subset=None, keep='first', inplace=True);"
   ]
  },
  {
   "cell_type": "markdown",
   "metadata": {},
   "source": [
    "#### Null value"
   ]
  },
  {
   "cell_type": "code",
   "execution_count": 126,
   "metadata": {},
   "outputs": [
    {
     "data": {
      "text/plain": [
       "Series([], dtype: int64)"
      ]
     },
     "execution_count": 126,
     "metadata": {},
     "output_type": "execute_result"
    }
   ],
   "source": [
    "train_data.isnull().sum()[train_data.isnull().sum()>0]"
   ]
  },
  {
   "cell_type": "code",
   "execution_count": 127,
   "metadata": {},
   "outputs": [
    {
     "data": {
      "text/plain": [
       "Series([], dtype: int64)"
      ]
     },
     "execution_count": 127,
     "metadata": {},
     "output_type": "execute_result"
    }
   ],
   "source": [
    "test_data.isnull().sum()[test_data.isnull().sum()>0]"
   ]
  },
  {
   "cell_type": "markdown",
   "metadata": {},
   "source": [
    "No missing values"
   ]
  },
  {
   "cell_type": "markdown",
   "metadata": {},
   "source": [
    "##### Replacing blank values"
   ]
  },
  {
   "cell_type": "code",
   "execution_count": 128,
   "metadata": {},
   "outputs": [],
   "source": [
    "train_data['TotalCharges'] = train_data['TotalCharges'].replace(\" \", 0).astype('float32')"
   ]
  },
  {
   "cell_type": "code",
   "execution_count": 129,
   "metadata": {},
   "outputs": [],
   "source": [
    "test_data['TotalCharges'] = test_data['TotalCharges'].replace(\" \", 0).astype('float32')"
   ]
  },
  {
   "cell_type": "markdown",
   "metadata": {},
   "source": [
    "### Feature Engineering"
   ]
  },
  {
   "cell_type": "code",
   "execution_count": 130,
   "metadata": {},
   "outputs": [
    {
     "data": {
      "text/plain": [
       "Index(['customerID', 'gender', 'SeniorCitizen', 'Partner', 'Dependents',\n",
       "       'tenure', 'PhoneService', 'MultipleLines', 'InternetService',\n",
       "       'OnlineSecurity', 'OnlineBackup', 'DeviceProtection', 'TechSupport',\n",
       "       'StreamingTV', 'StreamingMovies', 'Contract', 'PaperlessBilling',\n",
       "       'PaymentMethod', 'MonthlyCharges', 'TotalCharges', 'Churn'],\n",
       "      dtype='object')"
      ]
     },
     "execution_count": 130,
     "metadata": {},
     "output_type": "execute_result"
    }
   ],
   "source": [
    "train_data.columns"
   ]
  },
  {
   "cell_type": "code",
   "execution_count": 131,
   "metadata": {},
   "outputs": [],
   "source": [
    "# drop the customer ID column\n",
    "train_data.drop(['customerID'], axis = 1, inplace = True) \n",
    "test_data.drop(['customerID'], axis = 1, inplace = True) "
   ]
  },
  {
   "cell_type": "code",
   "execution_count": 132,
   "metadata": {},
   "outputs": [
    {
     "data": {
      "text/plain": [
       "<matplotlib.axes._subplots.AxesSubplot at 0x2b829e808590>"
      ]
     },
     "execution_count": 132,
     "metadata": {},
     "output_type": "execute_result"
    },
    {
     "data": {
      "image/png": "[encoded data removed]",
      "text/plain": [
       "<Figure size 432x288 with 1 Axes>"
      ]
     },
     "metadata": {
      "needs_background": "light"
     },
     "output_type": "display_data"
    }
   ],
   "source": [
    "sns.scatterplot(train_data['MonthlyCharges']*train_data['tenure'],train_data['TotalCharges'])"
   ]
  },
  {
   "cell_type": "markdown",
   "metadata": {},
   "source": [
    "TotalCharges is equivalent to tenure * monthlycharges and dhus can be dropped."
   ]
  },
  {
   "cell_type": "markdown",
   "metadata": {},
   "source": [
    "#### Correlations"
   ]
  },
  {
   "cell_type": "code",
   "execution_count": 133,
   "metadata": {},
   "outputs": [],
   "source": [
    "# Numerical correlation with pearson correlation\n",
    "corr_num = train_data.corr()"
   ]
  },
  {
   "cell_type": "code",
   "execution_count": 134,
   "metadata": {},
   "outputs": [
    {
     "data": {
      "text/html": [
       "<div>\n",
       "<style scoped>\n",
       "    .dataframe tbody tr th:only-of-type {\n",
       "        vertical-align: middle;\n",
       "    }\n",
       "\n",
       "    .dataframe tbody tr th {\n",
       "        vertical-align: top;\n",
       "    }\n",
       "\n",
       "    .dataframe thead th {\n",
       "        text-align: right;\n",
       "    }\n",
       "</style>\n",
       "<table border=\"1\" class=\"dataframe\">\n",
       "  <thead>\n",
       "    <tr style=\"text-align: right;\">\n",
       "      <th></th>\n",
       "      <th>tenure</th>\n",
       "      <th>MonthlyCharges</th>\n",
       "      <th>TotalCharges</th>\n",
       "    </tr>\n",
       "  </thead>\n",
       "  <tbody>\n",
       "    <tr>\n",
       "      <th>tenure</th>\n",
       "      <td>1.000000</td>\n",
       "      <td>0.250329</td>\n",
       "      <td>0.828741</td>\n",
       "    </tr>\n",
       "    <tr>\n",
       "      <th>MonthlyCharges</th>\n",
       "      <td>0.250329</td>\n",
       "      <td>1.000000</td>\n",
       "      <td>0.649686</td>\n",
       "    </tr>\n",
       "    <tr>\n",
       "      <th>TotalCharges</th>\n",
       "      <td>0.828741</td>\n",
       "      <td>0.649686</td>\n",
       "      <td>1.000000</td>\n",
       "    </tr>\n",
       "  </tbody>\n",
       "</table>\n",
       "</div>"
      ],
      "text/plain": [
       "                  tenure  MonthlyCharges  TotalCharges\n",
       "tenure          1.000000        0.250329      0.828741\n",
       "MonthlyCharges  0.250329        1.000000      0.649686\n",
       "TotalCharges    0.828741        0.649686      1.000000"
      ]
     },
     "execution_count": 134,
     "metadata": {},
     "output_type": "execute_result"
    }
   ],
   "source": [
    "corr_num"
   ]
  },
  {
   "cell_type": "code",
   "execution_count": 135,
   "metadata": {},
   "outputs": [],
   "source": [
    "# Defining spearman correlation function for all variables\n",
    "def corr_spr(dataframe):\n",
    "    mat = []\n",
    "    for i in dataframe.columns:\n",
    "        for j in dataframe.columns:\n",
    "            mat.append(spearmanr(dataframe[i], dataframe[j])[0])\n",
    "    return mat"
   ]
  },
  {
   "cell_type": "code",
   "execution_count": 136,
   "metadata": {},
   "outputs": [],
   "source": [
    "# list of spearman correlation values\n",
    "corr_spr_list = corr_spr(train_data.iloc[:,0:])\n",
    "#converting spearman correlation values into dataframe\n",
    "corr_spr_mat = pd.DataFrame(np.array(corr_spr_list).reshape(20,20), columns = train_data.iloc[:,0:].columns, index=train_data.iloc[:,0:].columns)"
   ]
  },
  {
   "cell_type": "code",
   "execution_count": 137,
   "metadata": {},
   "outputs": [
    {
     "data": {
      "text/plain": [
       "Churn               1.000000\n",
       "PaperlessBilling    0.190945\n",
       "MonthlyCharges      0.180819\n",
       "SeniorCitizen       0.151184\n",
       "PaymentMethod       0.110728\n",
       "MultipleLines       0.040590\n",
       "PhoneService        0.018244\n",
       "gender             -0.014855\n",
       "InternetService    -0.023911\n",
       "StreamingTV        -0.034126\n",
       "StreamingMovies    -0.049913\n",
       "Partner            -0.149851\n",
       "Dependents         -0.168290\n",
       "DeviceProtection   -0.187980\n",
       "OnlineBackup       -0.223023\n",
       "TotalCharges       -0.241920\n",
       "OnlineSecurity     -0.300032\n",
       "TechSupport        -0.300083\n",
       "tenure             -0.378248\n",
       "Contract           -0.411846\n",
       "Name: Churn, dtype: float64"
      ]
     },
     "execution_count": 137,
     "metadata": {},
     "output_type": "execute_result"
    }
   ],
   "source": [
    "# Correlations with respect to churn\n",
    "corr_spr_mat['Churn'].sort_values(ascending=False)"
   ]
  },
  {
   "cell_type": "code",
   "execution_count": 138,
   "metadata": {},
   "outputs": [
    {
     "data": {
      "text/plain": [
       "Churn               1.000000\n",
       "Contract            0.411846\n",
       "tenure              0.378248\n",
       "TechSupport         0.300083\n",
       "OnlineSecurity      0.300032\n",
       "TotalCharges        0.241920\n",
       "OnlineBackup        0.223023\n",
       "PaperlessBilling    0.190945\n",
       "DeviceProtection    0.187980\n",
       "MonthlyCharges      0.180819\n",
       "Dependents          0.168290\n",
       "SeniorCitizen       0.151184\n",
       "Partner             0.149851\n",
       "PaymentMethod       0.110728\n",
       "StreamingMovies     0.049913\n",
       "MultipleLines       0.040590\n",
       "StreamingTV         0.034126\n",
       "InternetService     0.023911\n",
       "PhoneService        0.018244\n",
       "gender              0.014855\n",
       "Name: Churn, dtype: float64"
      ]
     },
     "execution_count": 138,
     "metadata": {},
     "output_type": "execute_result"
    }
   ],
   "source": [
    "#Absolute values of correlation with respect to churn\n",
    "abs(corr_spr_mat['Churn']).sort_values(ascending=False)"
   ]
  },
  {
   "cell_type": "code",
   "execution_count": 139,
   "metadata": {},
   "outputs": [
    {
     "name": "stdout",
     "output_type": "stream",
     "text": [
      "tenure Contract 0.6680403856539722\n",
      "tenure TotalCharges 0.8913135386619329\n",
      "Contract tenure 0.6680403856539722\n",
      "MonthlyCharges TotalCharges 0.6356549869100625\n",
      "TotalCharges tenure 0.8913135386619329\n",
      "TotalCharges MonthlyCharges 0.6356549869100624\n"
     ]
    }
   ],
   "source": [
    "# Printing feature pairs having hight correlation\n",
    "thres = 0.5\n",
    "for i in train_data.columns:\n",
    "    for j in train_data.columns:\n",
    "        sp = spearmanr(train_data[i], train_data[j])[0]\n",
    "        if (abs(sp) > thres) and (abs(sp) < 0.99): \n",
    "            print(i,j, sp)\n",
    "    "
   ]
  },
  {
   "cell_type": "code",
   "execution_count": null,
   "metadata": {},
   "outputs": [],
   "source": []
  },
  {
   "cell_type": "markdown",
   "metadata": {},
   "source": []
  },
  {
   "cell_type": "markdown",
   "metadata": {},
   "source": [
    "####  Encoding categorical variable"
   ]
  },
  {
   "cell_type": "code",
   "execution_count": 140,
   "metadata": {},
   "outputs": [
    {
     "data": {
      "text/plain": [
       "gender              2\n",
       "SeniorCitizen       2\n",
       "Partner             2\n",
       "Dependents          2\n",
       "PhoneService        2\n",
       "MultipleLines       3\n",
       "InternetService     3\n",
       "OnlineSecurity      3\n",
       "OnlineBackup        3\n",
       "DeviceProtection    3\n",
       "TechSupport         3\n",
       "StreamingTV         3\n",
       "StreamingMovies     3\n",
       "Contract            3\n",
       "PaperlessBilling    2\n",
       "PaymentMethod       4\n",
       "Churn               2\n",
       "dtype: int64"
      ]
     },
     "execution_count": 140,
     "metadata": {},
     "output_type": "execute_result"
    }
   ],
   "source": [
    "train_data[cat_var].nunique()"
   ]
  },
  {
   "cell_type": "code",
   "execution_count": 141,
   "metadata": {},
   "outputs": [],
   "source": [
    "# Categorical variables with binary values\n",
    "bin_var = ['gender', 'SeniorCitizen', 'Partner', 'Dependents','PhoneService','PaperlessBilling','Churn']"
   ]
  },
  {
   "cell_type": "code",
   "execution_count": 142,
   "metadata": {},
   "outputs": [],
   "source": [
    "# Categorical variables with multiple values\n",
    "mul_var = ['MultipleLines', 'InternetService', 'OnlineSecurity', 'OnlineBackup','DeviceProtection', 'TechSupport','StreamingTV','StreamingMovies','Contract','PaymentMethod']"
   ]
  },
  {
   "cell_type": "markdown",
   "metadata": {},
   "source": [
    "We perform label/ordinal encoding for binary variables and one-hot encoding for multiple variables"
   ]
  },
  {
   "cell_type": "markdown",
   "metadata": {},
   "source": [
    "#### Label/ ordinal encoding binary columns"
   ]
  },
  {
   "cell_type": "code",
   "execution_count": 143,
   "metadata": {},
   "outputs": [],
   "source": [
    "train_data_enc = train_data"
   ]
  },
  {
   "cell_type": "code",
   "execution_count": 144,
   "metadata": {},
   "outputs": [],
   "source": [
    "# Label encoding the binary columns of train data\n",
    "from sklearn.preprocessing import OrdinalEncoder\n",
    "ord_enc = OrdinalEncoder()\n",
    "train_data_enc[bin_var] = ord_enc.fit_transform(train_data[bin_var])"
   ]
  },
  {
   "cell_type": "code",
   "execution_count": 145,
   "metadata": {},
   "outputs": [],
   "source": [
    "# For test data\n",
    "test_data_enc = test_data\n",
    "test_data_enc[bin_var] = ord_enc.fit_transform(test_data[bin_var])"
   ]
  },
  {
   "cell_type": "code",
   "execution_count": null,
   "metadata": {},
   "outputs": [],
   "source": []
  },
  {
   "cell_type": "markdown",
   "metadata": {},
   "source": [
    "#### One hot encoding multi-category columns"
   ]
  },
  {
   "cell_type": "code",
   "execution_count": 146,
   "metadata": {},
   "outputs": [],
   "source": [
    "train_data_ohe = train_data_enc"
   ]
  },
  {
   "cell_type": "code",
   "execution_count": 147,
   "metadata": {},
   "outputs": [],
   "source": [
    "train_data_ohe = pd.get_dummies(data=train_data_enc, columns=mul_var, drop_first=True) \n",
    "# drop_first required to get k-1 columns and avoid dummy variable trap"
   ]
  },
  {
   "cell_type": "code",
   "execution_count": 148,
   "metadata": {},
   "outputs": [],
   "source": [
    "# For test data\n",
    "test_data_ohe = test_data_enc\n",
    "test_data_ohe = pd.get_dummies(data=test_data_enc, columns=mul_var, drop_first=True) \n",
    "# drop_first required to get k-1 columns and avoid dummy variable trap"
   ]
  },
  {
   "cell_type": "code",
   "execution_count": null,
   "metadata": {},
   "outputs": [],
   "source": []
  },
  {
   "cell_type": "markdown",
   "metadata": {},
   "source": [
    "#### Feature scaling"
   ]
  },
  {
   "cell_type": "code",
   "execution_count": 149,
   "metadata": {},
   "outputs": [],
   "source": [
    "# Separating into feature and target data\n",
    "X = train_data_ohe.loc[:, train_data_ohe.columns != 'Churn']\n",
    "y = train_data_ohe['Churn']"
   ]
  },
  {
   "cell_type": "code",
   "execution_count": 150,
   "metadata": {},
   "outputs": [],
   "source": [
    "# Separating into feature and target data for test data\n",
    "Xt = test_data_ohe.loc[:, test_data_ohe.columns != 'Churn']\n",
    "yt = test_data_ohe['Churn']"
   ]
  },
  {
   "cell_type": "markdown",
   "metadata": {},
   "source": [
    " **Feature scaling using Min-Max Scalar**"
   ]
  },
  {
   "cell_type": "code",
   "execution_count": 151,
   "metadata": {},
   "outputs": [],
   "source": [
    "# Feature scaling for training data\n",
    "from sklearn.preprocessing import MinMaxScaler\n",
    "mm_sc = MinMaxScaler()\n",
    "sf = mm_sc.fit_transform(X.values) # feature scaled (return numpy array)\n",
    "X_sc = pd.DataFrame(sf, index=X.index, columns=X.columns) # convert back to dataframe"
   ]
  },
  {
   "cell_type": "code",
   "execution_count": 152,
   "metadata": {},
   "outputs": [],
   "source": [
    "# Feature scaling for test data\n",
    "sf = mm_sc.fit_transform(Xt.values) # feature scaled (return numpy array)\n",
    "Xt_sc = pd.DataFrame(sf, index=Xt.index, columns=Xt.columns) # convert back to dataframe"
   ]
  },
  {
   "cell_type": "markdown",
   "metadata": {},
   "source": [
    "## Machine Learning modeling"
   ]
  },
  {
   "cell_type": "markdown",
   "metadata": {},
   "source": [
    "Models -> Random Forest, Logistic regression, KNN, SVM, XGB"
   ]
  },
  {
   "cell_type": "markdown",
   "metadata": {},
   "source": [
    "## Random Forest"
   ]
  },
  {
   "cell_type": "code",
   "execution_count": 153,
   "metadata": {},
   "outputs": [
    {
     "name": "stdout",
     "output_type": "stream",
     "text": [
      "Best Accuracy: 79.82 %\n",
      "Best Parameters: {'max_features': 'auto', 'n_estimators': 200}\n",
      "CPU times: user 1.3 s, sys: 148 ms, total: 1.45 s\n",
      "Wall time: 17.4 s\n"
     ]
    }
   ],
   "source": [
    "%%time\n",
    "# Random forest grid search for best parameters\n",
    "from sklearn.ensemble import RandomForestClassifier\n",
    "RF_cls = RandomForestClassifier(random_state = 0)\n",
    "from sklearn.model_selection import GridSearchCV\n",
    "parameters = [{'n_estimators': [50, 100, 200, 300, 400], 'max_features': ['auto', None, 'log2']}]\n",
    "RF_GCV = GridSearchCV(estimator = RF_cls, \n",
    "                           param_grid = parameters,\n",
    "                           scoring = 'accuracy',\n",
    "                           cv = 5,\n",
    "                           n_jobs = -1,\n",
    "                           return_train_score=True)\n",
    "RF_GCV = RF_GCV.fit(X_sc, y)\n",
    "best_accuracy = RF_GCV.best_score_\n",
    "best_parameters = RF_GCV.best_params_\n",
    "print(\"Best Accuracy: {:.2f} %\".format(best_accuracy*100))\n",
    "print(\"Best Parameters:\", best_parameters)"
   ]
  },
  {
   "cell_type": "code",
   "execution_count": 154,
   "metadata": {},
   "outputs": [],
   "source": [
    "y_pred_RF = RF_GCV.predict(X_sc) "
   ]
  },
  {
   "cell_type": "markdown",
   "metadata": {},
   "source": [
    "#### Saving the ML model"
   ]
  },
  {
   "cell_type": "code",
   "execution_count": 155,
   "metadata": {},
   "outputs": [],
   "source": [
    "import pickle\n",
    "\n",
    "# to save\n",
    "with open('./Models/RF.pkl','wb') as f:\n",
    "    pickle.dump(RF_GCV, f)\n",
    "\n",
    "# to load\n",
    "#with open('model.pkl', 'rb') as f:\n",
    "    #loaded_model_rf = pickle.load(f)"
   ]
  },
  {
   "cell_type": "markdown",
   "metadata": {},
   "source": [
    "### Prediction evaluation"
   ]
  },
  {
   "cell_type": "markdown",
   "metadata": {},
   "source": [
    "#### Confusion matrix"
   ]
  },
  {
   "cell_type": "code",
   "execution_count": 156,
   "metadata": {},
   "outputs": [
    {
     "data": {
      "text/plain": [
       "array([[4126,    7],\n",
       "       [   7, 1494]])"
      ]
     },
     "execution_count": 156,
     "metadata": {},
     "output_type": "execute_result"
    }
   ],
   "source": [
    "from sklearn.metrics import confusion_matrix\n",
    "confusion_matrix(y, y_pred_RF)"
   ]
  },
  {
   "cell_type": "markdown",
   "metadata": {},
   "source": [
    "True positive = 4126 <br> True Negative = 1494<br> False postive = 7<br> False Negative = 7"
   ]
  },
  {
   "cell_type": "markdown",
   "metadata": {},
   "source": [
    "#### Precision and Recall"
   ]
  },
  {
   "cell_type": "code",
   "execution_count": 157,
   "metadata": {},
   "outputs": [
    {
     "data": {
      "text/plain": [
       "0.9953364423717521"
      ]
     },
     "execution_count": 157,
     "metadata": {},
     "output_type": "execute_result"
    }
   ],
   "source": [
    "from sklearn.metrics import precision_score, recall_score\n",
    "precision_score(y, y_pred_RF)"
   ]
  },
  {
   "cell_type": "code",
   "execution_count": 158,
   "metadata": {},
   "outputs": [
    {
     "data": {
      "text/plain": [
       "0.9953364423717521"
      ]
     },
     "execution_count": 158,
     "metadata": {},
     "output_type": "execute_result"
    }
   ],
   "source": [
    "from sklearn.metrics import precision_score, recall_score\n",
    "recall_score(y, y_pred_RF)"
   ]
  },
  {
   "cell_type": "markdown",
   "metadata": {},
   "source": [
    "#### Cross-validation"
   ]
  },
  {
   "cell_type": "code",
   "execution_count": 159,
   "metadata": {},
   "outputs": [],
   "source": [
    "from sklearn.model_selection import cross_validate\n",
    "scoring = {'accuracy' : make_scorer(accuracy_score), \n",
    "           'precision' : make_scorer(precision_score),\n",
    "           'recall' : make_scorer(recall_score), \n",
    "           'f1_score' : make_scorer(f1_score),\n",
    "           'roc_auc' : make_scorer(roc_auc_score)}\n",
    "scores = cross_validate(RF_GCV, X_sc, y, cv=5,\n",
    "                  scoring=scoring,\n",
    "                  return_train_score=True)"
   ]
  },
  {
   "cell_type": "code",
   "execution_count": 160,
   "metadata": {},
   "outputs": [
    {
     "data": {
      "text/plain": [
       "{'fit_time': array([13.96068406, 13.95032334, 13.46597195, 13.8417666 , 14.09135675]),\n",
       " 'score_time': array([0.07990503, 0.07483077, 0.05155635, 0.07548785, 0.09794402]),\n",
       " 'test_accuracy': array([0.81632653, 0.80035492, 0.79503106, 0.7826087 , 0.79129663]),\n",
       " 'train_accuracy': array([0.99689372, 0.99800311, 0.99800311, 0.99866874, 0.99800355]),\n",
       " 'test_precision': array([0.69787234, 0.6744186 , 0.64680851, 0.625     , 0.63265306]),\n",
       " 'train_precision': array([0.99334996, 0.99501661, 0.99584027, 0.99833055, 0.99584027]),\n",
       " 'test_recall': array([0.54666667, 0.48333333, 0.50666667, 0.46511628, 0.51666667]),\n",
       " 'train_recall': array([0.99500416, 0.99750208, 0.99666944, 0.99666667, 0.99666944]),\n",
       " 'test_f1_score': array([0.61308411, 0.5631068 , 0.5682243 , 0.53333333, 0.56880734]),\n",
       " 'train_f1_score': array([0.99417637, 0.9962578 , 0.99625468, 0.99749791, 0.99625468]),\n",
       " 'test_roc_auc': array([0.73040709, 0.69934502, 0.70315195, 0.68171068, 0.70385391]),\n",
       " 'train_roc_auc': array([0.99629216, 0.9978436 , 0.99757852, 0.99803094, 0.99757875])}"
      ]
     },
     "execution_count": 160,
     "metadata": {},
     "output_type": "execute_result"
    }
   ],
   "source": [
    "scores"
   ]
  },
  {
   "cell_type": "code",
   "execution_count": 161,
   "metadata": {},
   "outputs": [
    {
     "name": "stdout",
     "output_type": "stream",
     "text": [
      "test_accuracy mean =  0.7971235663931183 \n",
      " test_precision mean =  0.6553505033878965 \n",
      " test_recall =  0.5036899224806202 \n",
      " test_f1_score mean =  0.5693111760228666 \n",
      " test_roc_auc mean =  0.7036937334588075\n"
     ]
    }
   ],
   "source": [
    "print( 'test_accuracy mean = ', scores['test_accuracy'].mean(), \n",
    "      '\\n test_precision mean = ', scores['test_precision'].mean(),\n",
    "     '\\n test_recall = ', scores['test_recall'].mean(),\n",
    "     '\\n test_f1_score mean = ', scores['test_f1_score'].mean(),\n",
    "     '\\n test_roc_auc mean = ', scores['test_roc_auc'].mean()\n",
    "     )"
   ]
  },
  {
   "cell_type": "markdown",
   "metadata": {},
   "source": [
    "#### Feature Importance"
   ]
  },
  {
   "cell_type": "code",
   "execution_count": 166,
   "metadata": {},
   "outputs": [
    {
     "data": {
      "text/plain": [
       "RandomForestClassifier(n_estimators=200, random_state=0)"
      ]
     },
     "execution_count": 166,
     "metadata": {},
     "output_type": "execute_result"
    }
   ],
   "source": [
    "RF_cls = RandomForestClassifier(n_estimators =  200, max_features =  'auto', random_state = 0)\n",
    "RF_cls.fit(X_sc,y)"
   ]
  },
  {
   "cell_type": "code",
   "execution_count": 168,
   "metadata": {},
   "outputs": [],
   "source": [
    "RF_cls.feature_importances_ # returns numpy array\n",
    "Feat_Imp = pd.DataFrame({'Features': X_sc.columns, 'Importance Score': RF_cls.feature_importances_}) # convert into dataframe\n"
   ]
  },
  {
   "cell_type": "code",
   "execution_count": 169,
   "metadata": {},
   "outputs": [
    {
     "data": {
      "text/html": [
       "<div>\n",
       "<style scoped>\n",
       "    .dataframe tbody tr th:only-of-type {\n",
       "        vertical-align: middle;\n",
       "    }\n",
       "\n",
       "    .dataframe tbody tr th {\n",
       "        vertical-align: top;\n",
       "    }\n",
       "\n",
       "    .dataframe thead th {\n",
       "        text-align: right;\n",
       "    }\n",
       "</style>\n",
       "<table border=\"1\" class=\"dataframe\">\n",
       "  <thead>\n",
       "    <tr style=\"text-align: right;\">\n",
       "      <th></th>\n",
       "      <th>Features</th>\n",
       "      <th>Importance Score</th>\n",
       "    </tr>\n",
       "  </thead>\n",
       "  <tbody>\n",
       "    <tr>\n",
       "      <th>8</th>\n",
       "      <td>TotalCharges</td>\n",
       "      <td>0.194228</td>\n",
       "    </tr>\n",
       "    <tr>\n",
       "      <th>4</th>\n",
       "      <td>tenure</td>\n",
       "      <td>0.175300</td>\n",
       "    </tr>\n",
       "    <tr>\n",
       "      <th>7</th>\n",
       "      <td>MonthlyCharges</td>\n",
       "      <td>0.168409</td>\n",
       "    </tr>\n",
       "    <tr>\n",
       "      <th>28</th>\n",
       "      <td>PaymentMethod_Electronic check</td>\n",
       "      <td>0.039922</td>\n",
       "    </tr>\n",
       "    <tr>\n",
       "      <th>11</th>\n",
       "      <td>InternetService_Fiber optic</td>\n",
       "      <td>0.037495</td>\n",
       "    </tr>\n",
       "    <tr>\n",
       "      <th>26</th>\n",
       "      <td>Contract_Two year</td>\n",
       "      <td>0.029033</td>\n",
       "    </tr>\n",
       "    <tr>\n",
       "      <th>0</th>\n",
       "      <td>gender</td>\n",
       "      <td>0.027387</td>\n",
       "    </tr>\n",
       "    <tr>\n",
       "      <th>6</th>\n",
       "      <td>PaperlessBilling</td>\n",
       "      <td>0.025288</td>\n",
       "    </tr>\n",
       "    <tr>\n",
       "      <th>14</th>\n",
       "      <td>OnlineSecurity_Yes</td>\n",
       "      <td>0.024546</td>\n",
       "    </tr>\n",
       "    <tr>\n",
       "      <th>20</th>\n",
       "      <td>TechSupport_Yes</td>\n",
       "      <td>0.023880</td>\n",
       "    </tr>\n",
       "    <tr>\n",
       "      <th>2</th>\n",
       "      <td>Partner</td>\n",
       "      <td>0.023112</td>\n",
       "    </tr>\n",
       "    <tr>\n",
       "      <th>25</th>\n",
       "      <td>Contract_One year</td>\n",
       "      <td>0.022844</td>\n",
       "    </tr>\n",
       "    <tr>\n",
       "      <th>16</th>\n",
       "      <td>OnlineBackup_Yes</td>\n",
       "      <td>0.022487</td>\n",
       "    </tr>\n",
       "    <tr>\n",
       "      <th>1</th>\n",
       "      <td>SeniorCitizen</td>\n",
       "      <td>0.021132</td>\n",
       "    </tr>\n",
       "    <tr>\n",
       "      <th>10</th>\n",
       "      <td>MultipleLines_Yes</td>\n",
       "      <td>0.020551</td>\n",
       "    </tr>\n",
       "  </tbody>\n",
       "</table>\n",
       "</div>"
      ],
      "text/plain": [
       "                          Features  Importance Score\n",
       "8                     TotalCharges          0.194228\n",
       "4                           tenure          0.175300\n",
       "7                   MonthlyCharges          0.168409\n",
       "28  PaymentMethod_Electronic check          0.039922\n",
       "11     InternetService_Fiber optic          0.037495\n",
       "26               Contract_Two year          0.029033\n",
       "0                           gender          0.027387\n",
       "6                 PaperlessBilling          0.025288\n",
       "14              OnlineSecurity_Yes          0.024546\n",
       "20                 TechSupport_Yes          0.023880\n",
       "2                          Partner          0.023112\n",
       "25               Contract_One year          0.022844\n",
       "16                OnlineBackup_Yes          0.022487\n",
       "1                    SeniorCitizen          0.021132\n",
       "10               MultipleLines_Yes          0.020551"
      ]
     },
     "execution_count": 169,
     "metadata": {},
     "output_type": "execute_result"
    }
   ],
   "source": [
    "FI_sorted = Feat_Imp.sort_values(by=['Importance Score'], ascending=False)\n",
    "FI_sorted.head(15)"
   ]
  },
  {
   "cell_type": "code",
   "execution_count": null,
   "metadata": {},
   "outputs": [],
   "source": []
  },
  {
   "cell_type": "code",
   "execution_count": 172,
   "metadata": {},
   "outputs": [
    {
     "data": {
      "image/png": "[encoded data removed]",
      "text/plain": [
       "<Figure size 1080x720 with 1 Axes>"
      ]
     },
     "metadata": {
      "needs_background": "light"
     },
     "output_type": "display_data"
    }
   ],
   "source": [
    "plt.subplots(figsize=(15, 10))\n",
    "ax = sns.barplot(x='Features', y='Importance Score', data = FI_sorted.head(25))\n",
    "ax.xaxis.set_tick_params(rotation=90)"
   ]
  },
  {
   "cell_type": "code",
   "execution_count": null,
   "metadata": {},
   "outputs": [],
   "source": []
  },
  {
   "cell_type": "markdown",
   "metadata": {},
   "source": [
    "#### Evaluating Test set"
   ]
  },
  {
   "cell_type": "code",
   "execution_count": 174,
   "metadata": {},
   "outputs": [
    {
     "data": {
      "text/plain": [
       "RandomForestClassifier(n_estimators=200, random_state=0)"
      ]
     },
     "execution_count": 174,
     "metadata": {},
     "output_type": "execute_result"
    }
   ],
   "source": [
    "RF_cls.fit(Xt_sc,yt)"
   ]
  },
  {
   "cell_type": "code",
   "execution_count": null,
   "metadata": {},
   "outputs": [],
   "source": []
  },
  {
   "cell_type": "code",
   "execution_count": null,
   "metadata": {},
   "outputs": [],
   "source": []
  },
  {
   "cell_type": "code",
   "execution_count": null,
   "metadata": {},
   "outputs": [],
   "source": []
  },
  {
   "cell_type": "code",
   "execution_count": null,
   "metadata": {},
   "outputs": [],
   "source": []
  },
  {
   "cell_type": "code",
   "execution_count": 162,
   "metadata": {},
   "outputs": [
    {
     "data": {
      "image/png": "[encoded data removed]",
      "text/plain": [
       "<Figure size 432x288 with 1 Axes>"
      ]
     },
     "metadata": {
      "needs_background": "light"
     },
     "output_type": "display_data"
    }
   ],
   "source": [
    "from sklearn.metrics import precision_recall_curve\n",
    "from sklearn.metrics import plot_precision_recall_curve\n",
    "import matplotlib.pyplot as plt\n",
    "\n",
    "disp = plot_precision_recall_curve(RF_GCV, X_sc, y)"
   ]
  },
  {
   "cell_type": "code",
   "execution_count": null,
   "metadata": {},
   "outputs": [],
   "source": []
  }
 ],
 "metadata": {
  "kernelspec": {
   "display_name": "Python 3",
   "language": "python",
   "name": "python3"
  },
  "language_info": {
   "codemirror_mode": {
    "name": "ipython",
    "version": 3
   },
   "file_extension": ".py",
   "mimetype": "text/x-python",
   "name": "python",
   "nbconvert_exporter": "python",
   "pygments_lexer": "ipython3",
   "version": "3.7.7"
  }
 },
 "nbformat": 4,
 "nbformat_minor": 4
}
